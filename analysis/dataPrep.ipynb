{
 "cells": [
  {
   "cell_type": "code",
   "execution_count": 4,
   "metadata": {
    "collapsed": true,
    "pycharm": {
     "name": "#%%\n"
    }
   },
   "outputs": [
    {
     "data": {
      "text/plain": "       weekday       date   time           stadium  attendance  \\\n0      Sonntag 2004-03-21  14:30  Stadion Wankdorf        7500   \n1      Sonntag 2003-11-23  16:15  Stadion Wankdorf       11000   \n2      Sonntag 2004-02-15  16:00  Stadion Wankdorf       11850   \n3     Dienstag 2003-07-22  19:30  Stadion Wankdorf       11850   \n4      Sonntag 2004-05-09  16:15  Stadion Wankdorf        5000   \n...        ...        ...    ...               ...         ...   \n2855  Mittwoch 2019-05-22  20:00        Letzigrund         100   \n2856  Dienstag 2018-09-25  20:00        Letzigrund        3500   \n2857   Samstag 2019-04-20  19:00        Letzigrund        4300   \n2858   Sonntag 2018-12-09  16:00        Letzigrund        4800   \n2859   Samstag 2019-03-02  19:00        Letzigrund        3700   \n\n                     hometeam            awayteam  matchday result  season  \\\n0              BSC Young Boys     Servette Genève        25    4:2    2003   \n1              BSC Young Boys     Servette Genève        17    3:0    2003   \n2              BSC Young Boys            FC Basel        19    0:1    2003   \n3              BSC Young Boys            FC Basel         2    2:3    2003   \n4              BSC Young Boys  Neuchâtel Xamax FC        33    3:1    2003   \n...                       ...                 ...       ...    ...     ...   \n2855  Grasshopper Club Zürich             FC Sion        35    0:3    2018   \n2856  Grasshopper Club Zürich             FC Thun         8    0:2    2018   \n2857  Grasshopper Club Zürich             FC Thun        30    1:1    2018   \n2858  Grasshopper Club Zürich           FC Luzern        17    2:3    2018   \n2859  Grasshopper Club Zürich           FC Luzern        23    1:3    2018   \n\n      ...  points_away  position_home  position_away  \\\n0     ...     1.750000              2              3   \n1     ...     1.750000              2              3   \n2     ...     2.888889              2              1   \n3     ...     3.000000              1              3   \n4     ...     0.937500              2              9   \n...   ...          ...            ...            ...   \n2855  ...     1.176471             10              8   \n2856  ...     1.571429              8              2   \n2857  ...     1.344828             10              3   \n2858  ...     1.187500              9              7   \n2859  ...     1.181818             10              7   \n\n      last_season_position_home  last_season_position_away  form_home  \\\n0                             4                          6        2.2   \n1                             4                          6        3.0   \n2                             4                          2        2.6   \n3                             4                          2        3.0   \n4                             4                          3        2.4   \n...                         ...                        ...        ...   \n2855                          9                          6        0.4   \n2856                          9                          7        1.4   \n2857                          9                          7        0.8   \n2858                          9                          3        1.2   \n2859                          9                          3        0.2   \n\n      form_away  rain  sun temp_avg  \n0           1.6   2.5   27      9.7  \n1           1.4     0  176      5.9  \n2           2.6     0   19      1.8  \n3           3.0   7.8  666     21.4  \n4           1.8   2.9    0        6  \n...         ...   ...  ...      ...  \n2855        0.6     0  529     13.6  \n2856        1.6     0  678      9.3  \n2857        0.4     0  773     15.6  \n2858        1.4  12.4   22        6  \n2859        0.8     0   55      7.2  \n\n[2842 rows x 22 columns]",
      "text/html": "<div>\n<style scoped>\n    .dataframe tbody tr th:only-of-type {\n        vertical-align: middle;\n    }\n\n    .dataframe tbody tr th {\n        vertical-align: top;\n    }\n\n    .dataframe thead th {\n        text-align: right;\n    }\n</style>\n<table border=\"1\" class=\"dataframe\">\n  <thead>\n    <tr style=\"text-align: right;\">\n      <th></th>\n      <th>weekday</th>\n      <th>date</th>\n      <th>time</th>\n      <th>stadium</th>\n      <th>attendance</th>\n      <th>hometeam</th>\n      <th>awayteam</th>\n      <th>matchday</th>\n      <th>result</th>\n      <th>season</th>\n      <th>...</th>\n      <th>points_away</th>\n      <th>position_home</th>\n      <th>position_away</th>\n      <th>last_season_position_home</th>\n      <th>last_season_position_away</th>\n      <th>form_home</th>\n      <th>form_away</th>\n      <th>rain</th>\n      <th>sun</th>\n      <th>temp_avg</th>\n    </tr>\n  </thead>\n  <tbody>\n    <tr>\n      <th>0</th>\n      <td>Sonntag</td>\n      <td>2004-03-21</td>\n      <td>14:30</td>\n      <td>Stadion Wankdorf</td>\n      <td>7500</td>\n      <td>BSC Young Boys</td>\n      <td>Servette Genève</td>\n      <td>25</td>\n      <td>4:2</td>\n      <td>2003</td>\n      <td>...</td>\n      <td>1.750000</td>\n      <td>2</td>\n      <td>3</td>\n      <td>4</td>\n      <td>6</td>\n      <td>2.2</td>\n      <td>1.6</td>\n      <td>2.5</td>\n      <td>27</td>\n      <td>9.7</td>\n    </tr>\n    <tr>\n      <th>1</th>\n      <td>Sonntag</td>\n      <td>2003-11-23</td>\n      <td>16:15</td>\n      <td>Stadion Wankdorf</td>\n      <td>11000</td>\n      <td>BSC Young Boys</td>\n      <td>Servette Genève</td>\n      <td>17</td>\n      <td>3:0</td>\n      <td>2003</td>\n      <td>...</td>\n      <td>1.750000</td>\n      <td>2</td>\n      <td>3</td>\n      <td>4</td>\n      <td>6</td>\n      <td>3.0</td>\n      <td>1.4</td>\n      <td>0</td>\n      <td>176</td>\n      <td>5.9</td>\n    </tr>\n    <tr>\n      <th>2</th>\n      <td>Sonntag</td>\n      <td>2004-02-15</td>\n      <td>16:00</td>\n      <td>Stadion Wankdorf</td>\n      <td>11850</td>\n      <td>BSC Young Boys</td>\n      <td>FC Basel</td>\n      <td>19</td>\n      <td>0:1</td>\n      <td>2003</td>\n      <td>...</td>\n      <td>2.888889</td>\n      <td>2</td>\n      <td>1</td>\n      <td>4</td>\n      <td>2</td>\n      <td>2.6</td>\n      <td>2.6</td>\n      <td>0</td>\n      <td>19</td>\n      <td>1.8</td>\n    </tr>\n    <tr>\n      <th>3</th>\n      <td>Dienstag</td>\n      <td>2003-07-22</td>\n      <td>19:30</td>\n      <td>Stadion Wankdorf</td>\n      <td>11850</td>\n      <td>BSC Young Boys</td>\n      <td>FC Basel</td>\n      <td>2</td>\n      <td>2:3</td>\n      <td>2003</td>\n      <td>...</td>\n      <td>3.000000</td>\n      <td>1</td>\n      <td>3</td>\n      <td>4</td>\n      <td>2</td>\n      <td>3.0</td>\n      <td>3.0</td>\n      <td>7.8</td>\n      <td>666</td>\n      <td>21.4</td>\n    </tr>\n    <tr>\n      <th>4</th>\n      <td>Sonntag</td>\n      <td>2004-05-09</td>\n      <td>16:15</td>\n      <td>Stadion Wankdorf</td>\n      <td>5000</td>\n      <td>BSC Young Boys</td>\n      <td>Neuchâtel Xamax FC</td>\n      <td>33</td>\n      <td>3:1</td>\n      <td>2003</td>\n      <td>...</td>\n      <td>0.937500</td>\n      <td>2</td>\n      <td>9</td>\n      <td>4</td>\n      <td>3</td>\n      <td>2.4</td>\n      <td>1.8</td>\n      <td>2.9</td>\n      <td>0</td>\n      <td>6</td>\n    </tr>\n    <tr>\n      <th>...</th>\n      <td>...</td>\n      <td>...</td>\n      <td>...</td>\n      <td>...</td>\n      <td>...</td>\n      <td>...</td>\n      <td>...</td>\n      <td>...</td>\n      <td>...</td>\n      <td>...</td>\n      <td>...</td>\n      <td>...</td>\n      <td>...</td>\n      <td>...</td>\n      <td>...</td>\n      <td>...</td>\n      <td>...</td>\n      <td>...</td>\n      <td>...</td>\n      <td>...</td>\n      <td>...</td>\n    </tr>\n    <tr>\n      <th>2855</th>\n      <td>Mittwoch</td>\n      <td>2019-05-22</td>\n      <td>20:00</td>\n      <td>Letzigrund</td>\n      <td>100</td>\n      <td>Grasshopper Club Zürich</td>\n      <td>FC Sion</td>\n      <td>35</td>\n      <td>0:3</td>\n      <td>2018</td>\n      <td>...</td>\n      <td>1.176471</td>\n      <td>10</td>\n      <td>8</td>\n      <td>9</td>\n      <td>6</td>\n      <td>0.4</td>\n      <td>0.6</td>\n      <td>0</td>\n      <td>529</td>\n      <td>13.6</td>\n    </tr>\n    <tr>\n      <th>2856</th>\n      <td>Dienstag</td>\n      <td>2018-09-25</td>\n      <td>20:00</td>\n      <td>Letzigrund</td>\n      <td>3500</td>\n      <td>Grasshopper Club Zürich</td>\n      <td>FC Thun</td>\n      <td>8</td>\n      <td>0:2</td>\n      <td>2018</td>\n      <td>...</td>\n      <td>1.571429</td>\n      <td>8</td>\n      <td>2</td>\n      <td>9</td>\n      <td>7</td>\n      <td>1.4</td>\n      <td>1.6</td>\n      <td>0</td>\n      <td>678</td>\n      <td>9.3</td>\n    </tr>\n    <tr>\n      <th>2857</th>\n      <td>Samstag</td>\n      <td>2019-04-20</td>\n      <td>19:00</td>\n      <td>Letzigrund</td>\n      <td>4300</td>\n      <td>Grasshopper Club Zürich</td>\n      <td>FC Thun</td>\n      <td>30</td>\n      <td>1:1</td>\n      <td>2018</td>\n      <td>...</td>\n      <td>1.344828</td>\n      <td>10</td>\n      <td>3</td>\n      <td>9</td>\n      <td>7</td>\n      <td>0.8</td>\n      <td>0.4</td>\n      <td>0</td>\n      <td>773</td>\n      <td>15.6</td>\n    </tr>\n    <tr>\n      <th>2858</th>\n      <td>Sonntag</td>\n      <td>2018-12-09</td>\n      <td>16:00</td>\n      <td>Letzigrund</td>\n      <td>4800</td>\n      <td>Grasshopper Club Zürich</td>\n      <td>FC Luzern</td>\n      <td>17</td>\n      <td>2:3</td>\n      <td>2018</td>\n      <td>...</td>\n      <td>1.187500</td>\n      <td>9</td>\n      <td>7</td>\n      <td>9</td>\n      <td>3</td>\n      <td>1.2</td>\n      <td>1.4</td>\n      <td>12.4</td>\n      <td>22</td>\n      <td>6</td>\n    </tr>\n    <tr>\n      <th>2859</th>\n      <td>Samstag</td>\n      <td>2019-03-02</td>\n      <td>19:00</td>\n      <td>Letzigrund</td>\n      <td>3700</td>\n      <td>Grasshopper Club Zürich</td>\n      <td>FC Luzern</td>\n      <td>23</td>\n      <td>1:3</td>\n      <td>2018</td>\n      <td>...</td>\n      <td>1.181818</td>\n      <td>10</td>\n      <td>7</td>\n      <td>9</td>\n      <td>3</td>\n      <td>0.2</td>\n      <td>0.8</td>\n      <td>0</td>\n      <td>55</td>\n      <td>7.2</td>\n    </tr>\n  </tbody>\n</table>\n<p>2842 rows × 22 columns</p>\n</div>"
     },
     "execution_count": 4,
     "metadata": {},
     "output_type": "execute_result"
    }
   ],
   "source": [
    "import pandas as pd\n",
    "import numpy as np\n",
    "import attancanceUtil as util\n",
    "\n",
    "\n",
    "attendance_df = pd.read_csv('../data/matches.csv', sep=',', parse_dates=[1], date_parser=util.custom_date_parser)\n",
    "\n",
    "# Technische NA (16 Spiele wurden nicht durchgeführt und haben keine gültigen Werte).\n",
    "attendance_df.dropna(inplace=True)\n",
    "attendance_df = attendance_df[(attendance_df['attendance'] != 'Unter Ausschluss der Öffentlichkeit')]\n",
    "\n",
    "#Nummerische werte als solche definieren\n",
    "attendance_df['attendance'] = pd.to_numeric(attendance_df['attendance'])\n",
    "attendance_df['matchday'] = pd.to_numeric(attendance_df['matchday'], downcast='integer')\n",
    "\n",
    "\n",
    "#saison auslesen:\n",
    "season = attendance_df.apply(lambda x: util.determine_season(x['date']), axis=1)\n",
    "attendance_df['season'] = season\n",
    "\n",
    "#Hinzufügen der Geografischen Distanz:\n",
    "team_distance = attendance_df.apply(lambda x: util.calc_dist(x['hometeam'], x['awayteam']), axis=1)\n",
    "attendance_df['team_distance'] = team_distance\n",
    "\n",
    "\n",
    "#Hinzufügen der Punkte vor der Runde:\n",
    "points_home = attendance_df.apply(lambda x: util.calc_point_average_before_game(x['season'], x['matchday'],x['hometeam']), axis=1)\n",
    "attendance_df['points_home'] = points_home\n",
    "points_away = attendance_df.apply(lambda x: util.calc_point_average_before_game(x['season'], x['matchday'],x['awayteam']), axis=1)\n",
    "attendance_df['points_away'] = points_away\n",
    "\n",
    "#Hinzufügen der Position in der Liga:\n",
    "position_home = attendance_df.apply(lambda x: util.calc_postion_before_game(x['season'], x['matchday'],x['hometeam']), axis=1)\n",
    "attendance_df['position_home'] = position_home\n",
    "position_away = attendance_df.apply(lambda x: util.calc_postion_before_game(x['season'], x['matchday'],x['awayteam']), axis=1)\n",
    "attendance_df['position_away'] = position_away\n",
    "\n",
    "#Hinzufügen der Position in der vorsaision:\n",
    "last_season_position_home = attendance_df.apply(lambda x: util.calc_last_seasons_position(x['season'], x['hometeam']), axis=1)\n",
    "attendance_df['last_season_position_home'] = last_season_position_home\n",
    "last_season_position_away = attendance_df.apply(lambda x: util.calc_last_seasons_position(x['season'], x['awayteam']), axis=1)\n",
    "attendance_df['last_season_position_away'] = last_season_position_away\n",
    "\n",
    "#Hinzufügen der aktuellen Form:\n",
    "form_home = attendance_df.apply(lambda x: util.calc_point_average_from_last_five_games(x['season'], x['matchday'],x['hometeam'], attendance_df), axis=1)\n",
    "attendance_df['form_home'] = form_home\n",
    "form_away = attendance_df.apply(lambda x: util.calc_point_average_from_last_five_games(x['season'], x['matchday'], x['awayteam'], attendance_df), axis=1)\n",
    "attendance_df['form_away'] = form_away\n",
    "\n",
    "#Hinzufügen der Wetterdaten\n",
    "weather_data = attendance_df.apply(lambda x: util.calc_weather_data(x['date'], x['hometeam']), axis=1)\n",
    "attendance_df[['rain','sun', 'temp_avg']] = pd.DataFrame(weather_data.tolist(), index=weather_data.index)\n",
    "attendance_df['sun'] = pd.to_numeric(attendance_df['sun'])\n",
    "attendance_df"
   ]
  },
  {
   "cell_type": "code",
   "execution_count": 22,
   "outputs": [],
   "source": [
    "f = open(\"../data/matches_prep.csv\", \"w\")\n",
    "attendance_df.to_csv(f, index= False)\n",
    "f.close()"
   ],
   "metadata": {
    "collapsed": false,
    "pycharm": {
     "name": "#%%\n"
    }
   }
  },
  {
   "cell_type": "code",
   "execution_count": 20,
   "outputs": [
    {
     "name": "stdout",
     "output_type": "stream",
     "text": [
      "<class 'pandas.core.frame.DataFrame'>\n",
      "Int64Index: 2842 entries, 0 to 2859\n",
      "Data columns (total 22 columns):\n",
      " #   Column                     Non-Null Count  Dtype         \n",
      "---  ------                     --------------  -----         \n",
      " 0   weekday                    2842 non-null   object        \n",
      " 1   date                       2842 non-null   datetime64[ns]\n",
      " 2   time                       2842 non-null   object        \n",
      " 3   stadium                    2842 non-null   object        \n",
      " 4   attendance                 2842 non-null   int64         \n",
      " 5   hometeam                   2842 non-null   object        \n",
      " 6   awayteam                   2842 non-null   object        \n",
      " 7   matchday                   2842 non-null   int8          \n",
      " 8   result                     2842 non-null   object        \n",
      " 9   season                     2842 non-null   int64         \n",
      " 10  team_distance              2842 non-null   float64       \n",
      " 11  points_home                2842 non-null   float64       \n",
      " 12  points_away                2842 non-null   float64       \n",
      " 13  position_home              2842 non-null   int64         \n",
      " 14  position_away              2842 non-null   int64         \n",
      " 15  last_season_position_home  2842 non-null   int64         \n",
      " 16  last_season_position_away  2842 non-null   int64         \n",
      " 17  form_home                  2842 non-null   float64       \n",
      " 18  form_away                  2842 non-null   float64       \n",
      " 19  rain                       2842 non-null   object        \n",
      " 20  sun                        2820 non-null   float64       \n",
      " 21  temp_avg                   2842 non-null   object        \n",
      "dtypes: datetime64[ns](1), float64(6), int64(6), int8(1), object(8)\n",
      "memory usage: 571.2+ KB\n"
     ]
    }
   ],
   "source": [
    "attendance_df.info()\n"
   ],
   "metadata": {
    "collapsed": false,
    "pycharm": {
     "name": "#%%\n"
    }
   }
  },
  {
   "cell_type": "code",
   "execution_count": null,
   "outputs": [],
   "source": [],
   "metadata": {
    "collapsed": false,
    "pycharm": {
     "name": "#%%\n"
    }
   }
  }
 ],
 "metadata": {
  "kernelspec": {
   "display_name": "Python 3",
   "language": "python",
   "name": "python3"
  },
  "language_info": {
   "codemirror_mode": {
    "name": "ipython",
    "version": 2
   },
   "file_extension": ".py",
   "mimetype": "text/x-python",
   "name": "python",
   "nbconvert_exporter": "python",
   "pygments_lexer": "ipython2",
   "version": "2.7.6"
  }
 },
 "nbformat": 4,
 "nbformat_minor": 0
}