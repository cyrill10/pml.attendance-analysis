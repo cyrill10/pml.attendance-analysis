{
 "cells": [
  {
   "cell_type": "code",
   "execution_count": 7,
   "metadata": {
    "collapsed": true,
    "pycharm": {
     "name": "#%%\n"
    }
   },
   "outputs": [
    {
     "data": {
      "text/plain": "       weekday       date   time           stadium  attendance  \\\n0      Sonntag 2004-03-21  14:30  Stadion Wankdorf        7500   \n1      Sonntag 2003-11-23  16:15  Stadion Wankdorf       11000   \n2      Sonntag 2004-02-15  16:00  Stadion Wankdorf       11850   \n3     Dienstag 2003-07-22  19:30  Stadion Wankdorf       11850   \n4      Sonntag 2004-05-09  16:15  Stadion Wankdorf        5000   \n...        ...        ...    ...               ...         ...   \n2855  Mittwoch 2019-05-22  20:00        Letzigrund         100   \n2856  Dienstag 2018-09-25  20:00        Letzigrund        3500   \n2857   Samstag 2019-04-20  19:00        Letzigrund        4300   \n2858   Sonntag 2018-12-09  16:00        Letzigrund        4800   \n2859   Samstag 2019-03-02  19:00        Letzigrund        3700   \n\n                     hometeam            awayteam  matchday result  season  \\\n0              BSC Young Boys     Servette Genève      25.0    4:2    2003   \n1              BSC Young Boys     Servette Genève      17.0    3:0    2003   \n2              BSC Young Boys            FC Basel      19.0    0:1    2003   \n3              BSC Young Boys            FC Basel       2.0    2:3    2003   \n4              BSC Young Boys  Neuchâtel Xamax FC      33.0    3:1    2003   \n...                       ...                 ...       ...    ...     ...   \n2855  Grasshopper Club Zürich             FC Sion      35.0    0:3    2018   \n2856  Grasshopper Club Zürich             FC Thun       8.0    0:2    2018   \n2857  Grasshopper Club Zürich             FC Thun      30.0    1:1    2018   \n2858  Grasshopper Club Zürich           FC Luzern      17.0    2:3    2018   \n2859  Grasshopper Club Zürich           FC Luzern      23.0    1:3    2018   \n\n      team_distance  points_home  points_away  \n0     129637.370939     2.041667     1.750000  \n1     129637.370939     2.125000     1.750000  \n2      68663.335223     2.111111     2.888889  \n3      68663.335223     3.000000     3.000000  \n4      39705.085279     2.031250     0.937500  \n...             ...          ...          ...  \n2855  155415.844527     0.705882     1.176471  \n2856   97172.740401     1.000000     1.571429  \n2857   97172.740401     0.758621     1.344828  \n2858   39797.513591     1.062500     1.187500  \n2859   39797.513591     0.818182     1.181818  \n\n[2842 rows x 13 columns]",
      "text/html": "<div>\n<style scoped>\n    .dataframe tbody tr th:only-of-type {\n        vertical-align: middle;\n    }\n\n    .dataframe tbody tr th {\n        vertical-align: top;\n    }\n\n    .dataframe thead th {\n        text-align: right;\n    }\n</style>\n<table border=\"1\" class=\"dataframe\">\n  <thead>\n    <tr style=\"text-align: right;\">\n      <th></th>\n      <th>weekday</th>\n      <th>date</th>\n      <th>time</th>\n      <th>stadium</th>\n      <th>attendance</th>\n      <th>hometeam</th>\n      <th>awayteam</th>\n      <th>matchday</th>\n      <th>result</th>\n      <th>season</th>\n      <th>team_distance</th>\n      <th>points_home</th>\n      <th>points_away</th>\n    </tr>\n  </thead>\n  <tbody>\n    <tr>\n      <th>0</th>\n      <td>Sonntag</td>\n      <td>2004-03-21</td>\n      <td>14:30</td>\n      <td>Stadion Wankdorf</td>\n      <td>7500</td>\n      <td>BSC Young Boys</td>\n      <td>Servette Genève</td>\n      <td>25.0</td>\n      <td>4:2</td>\n      <td>2003</td>\n      <td>129637.370939</td>\n      <td>2.041667</td>\n      <td>1.750000</td>\n    </tr>\n    <tr>\n      <th>1</th>\n      <td>Sonntag</td>\n      <td>2003-11-23</td>\n      <td>16:15</td>\n      <td>Stadion Wankdorf</td>\n      <td>11000</td>\n      <td>BSC Young Boys</td>\n      <td>Servette Genève</td>\n      <td>17.0</td>\n      <td>3:0</td>\n      <td>2003</td>\n      <td>129637.370939</td>\n      <td>2.125000</td>\n      <td>1.750000</td>\n    </tr>\n    <tr>\n      <th>2</th>\n      <td>Sonntag</td>\n      <td>2004-02-15</td>\n      <td>16:00</td>\n      <td>Stadion Wankdorf</td>\n      <td>11850</td>\n      <td>BSC Young Boys</td>\n      <td>FC Basel</td>\n      <td>19.0</td>\n      <td>0:1</td>\n      <td>2003</td>\n      <td>68663.335223</td>\n      <td>2.111111</td>\n      <td>2.888889</td>\n    </tr>\n    <tr>\n      <th>3</th>\n      <td>Dienstag</td>\n      <td>2003-07-22</td>\n      <td>19:30</td>\n      <td>Stadion Wankdorf</td>\n      <td>11850</td>\n      <td>BSC Young Boys</td>\n      <td>FC Basel</td>\n      <td>2.0</td>\n      <td>2:3</td>\n      <td>2003</td>\n      <td>68663.335223</td>\n      <td>3.000000</td>\n      <td>3.000000</td>\n    </tr>\n    <tr>\n      <th>4</th>\n      <td>Sonntag</td>\n      <td>2004-05-09</td>\n      <td>16:15</td>\n      <td>Stadion Wankdorf</td>\n      <td>5000</td>\n      <td>BSC Young Boys</td>\n      <td>Neuchâtel Xamax FC</td>\n      <td>33.0</td>\n      <td>3:1</td>\n      <td>2003</td>\n      <td>39705.085279</td>\n      <td>2.031250</td>\n      <td>0.937500</td>\n    </tr>\n    <tr>\n      <th>...</th>\n      <td>...</td>\n      <td>...</td>\n      <td>...</td>\n      <td>...</td>\n      <td>...</td>\n      <td>...</td>\n      <td>...</td>\n      <td>...</td>\n      <td>...</td>\n      <td>...</td>\n      <td>...</td>\n      <td>...</td>\n      <td>...</td>\n    </tr>\n    <tr>\n      <th>2855</th>\n      <td>Mittwoch</td>\n      <td>2019-05-22</td>\n      <td>20:00</td>\n      <td>Letzigrund</td>\n      <td>100</td>\n      <td>Grasshopper Club Zürich</td>\n      <td>FC Sion</td>\n      <td>35.0</td>\n      <td>0:3</td>\n      <td>2018</td>\n      <td>155415.844527</td>\n      <td>0.705882</td>\n      <td>1.176471</td>\n    </tr>\n    <tr>\n      <th>2856</th>\n      <td>Dienstag</td>\n      <td>2018-09-25</td>\n      <td>20:00</td>\n      <td>Letzigrund</td>\n      <td>3500</td>\n      <td>Grasshopper Club Zürich</td>\n      <td>FC Thun</td>\n      <td>8.0</td>\n      <td>0:2</td>\n      <td>2018</td>\n      <td>97172.740401</td>\n      <td>1.000000</td>\n      <td>1.571429</td>\n    </tr>\n    <tr>\n      <th>2857</th>\n      <td>Samstag</td>\n      <td>2019-04-20</td>\n      <td>19:00</td>\n      <td>Letzigrund</td>\n      <td>4300</td>\n      <td>Grasshopper Club Zürich</td>\n      <td>FC Thun</td>\n      <td>30.0</td>\n      <td>1:1</td>\n      <td>2018</td>\n      <td>97172.740401</td>\n      <td>0.758621</td>\n      <td>1.344828</td>\n    </tr>\n    <tr>\n      <th>2858</th>\n      <td>Sonntag</td>\n      <td>2018-12-09</td>\n      <td>16:00</td>\n      <td>Letzigrund</td>\n      <td>4800</td>\n      <td>Grasshopper Club Zürich</td>\n      <td>FC Luzern</td>\n      <td>17.0</td>\n      <td>2:3</td>\n      <td>2018</td>\n      <td>39797.513591</td>\n      <td>1.062500</td>\n      <td>1.187500</td>\n    </tr>\n    <tr>\n      <th>2859</th>\n      <td>Samstag</td>\n      <td>2019-03-02</td>\n      <td>19:00</td>\n      <td>Letzigrund</td>\n      <td>3700</td>\n      <td>Grasshopper Club Zürich</td>\n      <td>FC Luzern</td>\n      <td>23.0</td>\n      <td>1:3</td>\n      <td>2018</td>\n      <td>39797.513591</td>\n      <td>0.818182</td>\n      <td>1.181818</td>\n    </tr>\n  </tbody>\n</table>\n<p>2842 rows × 13 columns</p>\n</div>"
     },
     "execution_count": 7,
     "metadata": {},
     "output_type": "execute_result"
    }
   ],
   "source": [
    "import pandas as pd\n",
    "import numpy as np\n",
    "import attancanceUtil as util\n",
    "\n",
    "\n",
    "attendance_df = pd.read_csv('../data/matches.csv', sep=',', parse_dates=[1], date_parser=util.custom_date_parser)\n",
    "\n",
    "# Technische NA (16 Spiele wurden nicht durchgeführt und haben keine gültigen Werte).\n",
    "attendance_df.dropna(inplace=True)\n",
    "attendance_df = attendance_df[(attendance_df['attendance'] != 'Unter Ausschluss der Öffentlichkeit')]\n",
    "\n",
    "#Nummerische werte als solche definieren\n",
    "attendance_df['attendance'] = pd.to_numeric((attendance_df['attendance']))\n",
    "\n",
    "\n",
    "#saison auslesen:\n",
    "season = attendance_df.apply(lambda x: util.determine_season(x['date']), axis=1)\n",
    "attendance_df['season'] = season\n",
    "\n",
    "#Hinzufügen der Geografischen Distanz:\n",
    "team_distance = attendance_df.apply(lambda x: util.calc_dist(x['hometeam'], x['awayteam']), axis=1)\n",
    "attendance_df['team_distance'] = team_distance\n",
    "\n",
    "\n",
    "#Hinzufügen der Punkte vor der Runde:\n",
    "points_home = attendance_df.apply(lambda x: util.calc_point_average_before_game(x['season'], x['matchday'],x['hometeam']), axis=1)\n",
    "attendance_df['points_home'] = points_home\n",
    "points_away = attendance_df.apply(lambda x: util.calc_point_average_before_game(x['season'], x['matchday'],x['awayteam']), axis=1)\n",
    "attendance_df['points_away'] = points_away\n",
    "\n",
    "attendance_df\n"
   ]
  },
  {
   "cell_type": "code",
   "execution_count": 2,
   "outputs": [],
   "source": [
    "f = open(\"../data/matches_prep.csv\", \"w\")\n",
    "attendance_df.to_csv(f, index= False)\n",
    "f.close()"
   ],
   "metadata": {
    "collapsed": false,
    "pycharm": {
     "name": "#%%\n"
    }
   }
  },
  {
   "cell_type": "code",
   "execution_count": 8,
   "outputs": [
    {
     "name": "stdout",
     "output_type": "stream",
     "text": [
      "<class 'pandas.core.frame.DataFrame'>\n",
      "Int64Index: 2842 entries, 0 to 2859\n",
      "Data columns (total 13 columns):\n",
      " #   Column         Non-Null Count  Dtype         \n",
      "---  ------         --------------  -----         \n",
      " 0   weekday        2842 non-null   object        \n",
      " 1   date           2842 non-null   datetime64[ns]\n",
      " 2   time           2842 non-null   object        \n",
      " 3   stadium        2842 non-null   object        \n",
      " 4   attendance     2842 non-null   int64         \n",
      " 5   hometeam       2842 non-null   object        \n",
      " 6   awayteam       2842 non-null   object        \n",
      " 7   matchday       2842 non-null   float64       \n",
      " 8   result         2842 non-null   object        \n",
      " 9   season         2842 non-null   int64         \n",
      " 10  team_distance  2842 non-null   float64       \n",
      " 11  points_home    2842 non-null   float64       \n",
      " 12  points_away    2842 non-null   float64       \n",
      "dtypes: datetime64[ns](1), float64(4), int64(2), object(6)\n",
      "memory usage: 310.8+ KB\n"
     ]
    }
   ],
   "source": [
    "attendance_df.info()\n"
   ],
   "metadata": {
    "collapsed": false,
    "pycharm": {
     "name": "#%%\n"
    }
   }
  },
  {
   "cell_type": "code",
   "execution_count": null,
   "outputs": [],
   "source": [],
   "metadata": {
    "collapsed": false,
    "pycharm": {
     "name": "#%%\n"
    }
   }
  }
 ],
 "metadata": {
  "kernelspec": {
   "display_name": "Python 3",
   "language": "python",
   "name": "python3"
  },
  "language_info": {
   "codemirror_mode": {
    "name": "ipython",
    "version": 2
   },
   "file_extension": ".py",
   "mimetype": "text/x-python",
   "name": "python",
   "nbconvert_exporter": "python",
   "pygments_lexer": "ipython2",
   "version": "2.7.6"
  }
 },
 "nbformat": 4,
 "nbformat_minor": 0
}