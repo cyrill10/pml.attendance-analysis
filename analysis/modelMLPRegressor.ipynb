{
 "cells": [
  {
   "cell_type": "code",
   "execution_count": 1,
   "metadata": {
    "collapsed": true
   },
   "outputs": [],
   "source": [
    "import pandas as pd\n",
    "import numpy as np\n",
    "import matplotlib.pyplot as plt\n",
    "from sklearn.model_selection import train_test_split\n",
    "import seaborn as sns\n",
    "import time\n",
    "from sklearn.neural_network import MLPRegressor\n",
    "%matplotlib inline\n",
    "sns.set()\n",
    "\n",
    "attendance_df = pd.read_csv('../data/matches_transformed.csv', sep=',')\n",
    "\n",
    "## Features - Target - Split\n",
    "X = attendance_df.drop('attendance', axis=1)\n",
    "y = attendance_df['attendance']\n",
    "\n",
    "## Test - Train - Split\n",
    "\n",
    "X_train, X_test, y_train, y_test, = train_test_split(\n",
    "    X,\n",
    "    y,\n",
    "    train_size=2/3, random_state=123)"
   ]
  },
  {
   "cell_type": "code",
   "execution_count": 2,
   "outputs": [],
   "source": [
    "## Features standardisieren\n",
    "from sklearn.preprocessing import StandardScaler\n",
    "scaler = StandardScaler()\n",
    "scaler.fit(X_train)\n",
    "X_train_sc = scaler.transform(X_train)\n",
    "X_test_sc = scaler.transform(X_test)"
   ],
   "metadata": {
    "collapsed": false,
    "pycharm": {
     "name": "#%%\n"
    }
   }
  },
  {
   "cell_type": "code",
   "execution_count": null,
   "outputs": [
    {
     "name": "stderr",
     "output_type": "stream",
     "text": [
      "/Users/cyrillbader/Library/Python/3.8/lib/python/site-packages/sklearn/neural_network/_multilayer_perceptron.py:582: ConvergenceWarning: Stochastic Optimizer: Maximum iterations (1000) reached and the optimization hasn't converged yet.\n",
      "  warnings.warn(\n",
      "/Users/cyrillbader/Library/Python/3.8/lib/python/site-packages/sklearn/neural_network/_multilayer_perceptron.py:587: UserWarning: Training interrupted by user.\n",
      "  warnings.warn(\"Training interrupted by user.\")\n"
     ]
    },
    {
     "name": "stdout",
     "output_type": "stream",
     "text": [
      "1000 0.8403948338093159 9.327885150909424\n",
      "6000 0.8586260156792844 42.552817821502686\n",
      "11000 0.8586260156792844 42.142208099365234\n",
      "16000 0.8586260156792844 42.420554876327515\n",
      "21000 0.8586260156792844 43.58534502983093\n",
      "26000 0.8586260156792844 45.38603115081787\n",
      "31000 0.8586260156792844 50.28366804122925\n",
      "36000 0.8602331469592683 31.839109897613525\n"
     ]
    }
   ],
   "source": [
    "from sklearn.neural_network import MLPRegressor\n",
    "\n",
    "scores = []\n",
    "best_val = 0\n",
    "best_score = 0\n",
    "maxIters = np.arange(1000, 52000, 5000)\n",
    "\n",
    "for maxIter in maxIters:\n",
    "    start_time = time.time()\n",
    "    model = MLPRegressor(max_iter=maxIter, random_state=123, batch_size=90)\n",
    "    model.fit(X_train_sc, y_train)\n",
    "    score = model.score(X_test_sc, y_test)\n",
    "    scores.append(score)\n",
    "    used_time = time.time() - start_time\n",
    "    if score > best_score:\n",
    "        best_score = score\n",
    "        best_val = maxIter\n",
    "    print(maxIter, score, used_time)\n",
    "\n",
    "fig = sns.lineplot(x=maxIters, y=scores)\n",
    "plt.xlabel('n_estimators')\n",
    "plt.ylabel('accuracy')\n",
    "plt.show()\n",
    "print('best_val   = ', best_val)\n",
    "print('best_score = ', best_score)\n"
   ],
   "metadata": {
    "collapsed": false,
    "pycharm": {
     "name": "#%%\n",
     "is_executing": true
    }
   }
  },
  {
   "cell_type": "code",
   "execution_count": 12,
   "outputs": [
    {
     "name": "stdout",
     "output_type": "stream",
     "text": [
      "10 0.8554633384779667 155.94157600402832\n",
      "20 0.8587306323047664 104.13508677482605\n",
      "30 0.8459894892368608 128.24607610702515\n",
      "40 0.8624898321336263 105.52019596099854\n",
      "50 0.861657267270596 93.83267211914062\n",
      "60 0.858176044207005 153.4552619457245\n",
      "70 0.8626582397954772 125.2725920677185\n",
      "80 0.8615636525636532 191.05403804779053\n",
      "90 0.8672171184331745 67.99517107009888\n",
      "100 0.858572537186322 207.73838901519775\n",
      "110 0.859516358537807 184.78057384490967\n",
      "120 0.8533679455437597 260.47557497024536\n",
      "130 0.8484515430359975 268.1589410305023\n",
      "140 0.8339704543484059 280.4204978942871\n",
      "best_val   =  90\n",
      "best_score =  0.8672171184331745\n"
     ]
    },
    {
     "data": {
      "text/plain": "<Figure size 432x288 with 1 Axes>",
      "image/png": "[encoded data removed]"
     },
     "metadata": {},
     "output_type": "display_data"
    }
   ],
   "source": [
    "#Grösser 35000 reicht aus\n",
    "# Die \"relu\" activation ergibt die Besten Werte\n",
    "scores = []\n",
    "best_val = 0\n",
    "best_score = 0\n",
    "batch_sizes = np.arange(10, 150, 10)\n",
    "\n",
    "for batch_size in batch_sizes:\n",
    "    start_time = time.time()\n",
    "    model = MLPRegressor(max_iter=35000, random_state=123, batch_size=batch_size)\n",
    "    model.fit(X_train_sc, y_train)\n",
    "    score = model.score(X_test_sc, y_test)\n",
    "    scores.append(score)\n",
    "    used_time = time.time() - start_time\n",
    "    if score > best_score:\n",
    "        best_score = score\n",
    "        best_val = batch_size\n",
    "    print(batch_size, score, used_time)\n",
    "\n",
    "fig = sns.lineplot(x=batch_sizes, y=scores)\n",
    "plt.xlabel('n_estimators')\n",
    "plt.ylabel('accuracy')\n",
    "plt.show()\n",
    "print('best_val   = ', best_val)\n",
    "print('best_score = ', best_score)"
   ],
   "metadata": {
    "collapsed": false,
    "pycharm": {
     "name": "#%%\n"
    }
   }
  },
  {
   "cell_type": "code",
   "execution_count": null,
   "outputs": [],
   "source": [
    "# best batchsize is 90\n",
    "\n",
    "start_time = time.time()\n",
    "model = MLPRegressor(max_iter=35000, random_state=123, batch_size=90)\n",
    "model.fit(X_train_sc, y_train)\n",
    "score = model.score(X_test_sc, y_test)\n",
    "used_time = time.time() - start_time\n",
    "print(score, used_time)"
   ],
   "metadata": {
    "collapsed": false,
    "pycharm": {
     "name": "#%%\n"
    }
   }
  },
  {
   "cell_type": "code",
   "execution_count": null,
   "outputs": [],
   "source": [],
   "metadata": {
    "collapsed": false,
    "pycharm": {
     "name": "#%%\n"
    }
   }
  }
 ],
 "metadata": {
  "kernelspec": {
   "name": "python3",
   "language": "python",
   "display_name": "Python 3"
  },
  "language_info": {
   "codemirror_mode": {
    "name": "ipython",
    "version": 2
   },
   "file_extension": ".py",
   "mimetype": "text/x-python",
   "name": "python",
   "nbconvert_exporter": "python",
   "pygments_lexer": "ipython2",
   "version": "2.7.6"
  }
 },
 "nbformat": 4,
 "nbformat_minor": 0
}