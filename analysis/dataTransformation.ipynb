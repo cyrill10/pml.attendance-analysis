{
 "cells": [
  {
   "cell_type": "code",
   "execution_count": 1,
   "metadata": {
    "collapsed": true
   },
   "outputs": [],
   "source": [
    "import pandas as pd\n",
    "import attancanceUtil as util\n",
    "\n",
    "attendance_df = pd.read_csv('../data/matches_prep.csv', sep=',')"
   ]
  },
  {
   "cell_type": "code",
   "execution_count": 2,
   "outputs": [
    {
     "data": {
      "text/plain": "      attendance  matchday  season  team_distance  points_home  points_away  \\\n0           7500        25    2003  129637.370939     2.041667     1.750000   \n1          11000        17    2003  129637.370939     2.125000     1.750000   \n2          11850        19    2003   68663.335223     2.111111     2.888889   \n3          11850         2    2003   68663.335223     3.000000     3.000000   \n4           5000        33    2003   39705.085279     2.031250     0.937500   \n...          ...       ...     ...            ...          ...          ...   \n2837         100        35    2018  155415.844527     0.705882     1.176471   \n2838        3500         8    2018   97172.740401     1.000000     1.571429   \n2839        4300        30    2018   97172.740401     0.758621     1.344828   \n2840        4800        17    2018   39797.513591     1.062500     1.187500   \n2841        3700        23    2018   39797.513591     0.818182     1.181818   \n\n      position_home  position_away  last_season_position_home  \\\n0                 2              3                          4   \n1                 2              3                          4   \n2                 2              1                          4   \n3                 1              3                          4   \n4                 2              9                          4   \n...             ...            ...                        ...   \n2837             10              8                          9   \n2838              8              2                          9   \n2839             10              3                          9   \n2840              9              7                          9   \n2841             10              7                          9   \n\n      last_season_position_away  ...  awayteam_FC Sion  \\\n0                             6  ...                 0   \n1                             6  ...                 0   \n2                             2  ...                 0   \n3                             2  ...                 0   \n4                             3  ...                 0   \n...                         ...  ...               ...   \n2837                          6  ...                 1   \n2838                          7  ...                 0   \n2839                          7  ...                 0   \n2840                          3  ...                 0   \n2841                          3  ...                 0   \n\n      awayteam_FC St. Gallen  awayteam_FC Thun awayteam_FC Vaduz  \\\n0                          0                 0                 0   \n1                          0                 0                 0   \n2                          0                 0                 0   \n3                          0                 0                 0   \n4                          0                 0                 0   \n...                      ...               ...               ...   \n2837                       0                 0                 0   \n2838                       0                 1                 0   \n2839                       0                 1                 0   \n2840                       0                 0                 0   \n2841                       0                 0                 0   \n\n      awayteam_FC Wil 1900  awayteam_FC Zürich  \\\n0                        0                   0   \n1                        0                   0   \n2                        0                   0   \n3                        0                   0   \n4                        0                   0   \n...                    ...                 ...   \n2837                     0                   0   \n2838                     0                   0   \n2839                     0                   0   \n2840                     0                   0   \n2841                     0                   0   \n\n      awayteam_Grasshopper Club Zürich  awayteam_Neuchâtel Xamax FC  \\\n0                                    0                            0   \n1                                    0                            0   \n2                                    0                            0   \n3                                    0                            0   \n4                                    0                            1   \n...                                ...                          ...   \n2837                                 0                            0   \n2838                                 0                            0   \n2839                                 0                            0   \n2840                                 0                            0   \n2841                                 0                            0   \n\n      awayteam_Servette Genève  awayteam_Yverdon-Sport FC  \n0                            1                          0  \n1                            1                          0  \n2                            0                          0  \n3                            0                          0  \n4                            0                          0  \n...                        ...                        ...  \n2837                         0                          0  \n2838                         0                          0  \n2839                         0                          0  \n2840                         0                          0  \n2841                         0                          0  \n\n[2842 rows x 57 columns]",
      "text/html": "<div>\n<style scoped>\n    .dataframe tbody tr th:only-of-type {\n        vertical-align: middle;\n    }\n\n    .dataframe tbody tr th {\n        vertical-align: top;\n    }\n\n    .dataframe thead th {\n        text-align: right;\n    }\n</style>\n<table border=\"1\" class=\"dataframe\">\n  <thead>\n    <tr style=\"text-align: right;\">\n      <th></th>\n      <th>attendance</th>\n      <th>matchday</th>\n      <th>season</th>\n      <th>team_distance</th>\n      <th>points_home</th>\n      <th>points_away</th>\n      <th>position_home</th>\n      <th>position_away</th>\n      <th>last_season_position_home</th>\n      <th>last_season_position_away</th>\n      <th>...</th>\n      <th>awayteam_FC Sion</th>\n      <th>awayteam_FC St. Gallen</th>\n      <th>awayteam_FC Thun</th>\n      <th>awayteam_FC Vaduz</th>\n      <th>awayteam_FC Wil 1900</th>\n      <th>awayteam_FC Zürich</th>\n      <th>awayteam_Grasshopper Club Zürich</th>\n      <th>awayteam_Neuchâtel Xamax FC</th>\n      <th>awayteam_Servette Genève</th>\n      <th>awayteam_Yverdon-Sport FC</th>\n    </tr>\n  </thead>\n  <tbody>\n    <tr>\n      <th>0</th>\n      <td>7500</td>\n      <td>25</td>\n      <td>2003</td>\n      <td>129637.370939</td>\n      <td>2.041667</td>\n      <td>1.750000</td>\n      <td>2</td>\n      <td>3</td>\n      <td>4</td>\n      <td>6</td>\n      <td>...</td>\n      <td>0</td>\n      <td>0</td>\n      <td>0</td>\n      <td>0</td>\n      <td>0</td>\n      <td>0</td>\n      <td>0</td>\n      <td>0</td>\n      <td>1</td>\n      <td>0</td>\n    </tr>\n    <tr>\n      <th>1</th>\n      <td>11000</td>\n      <td>17</td>\n      <td>2003</td>\n      <td>129637.370939</td>\n      <td>2.125000</td>\n      <td>1.750000</td>\n      <td>2</td>\n      <td>3</td>\n      <td>4</td>\n      <td>6</td>\n      <td>...</td>\n      <td>0</td>\n      <td>0</td>\n      <td>0</td>\n      <td>0</td>\n      <td>0</td>\n      <td>0</td>\n      <td>0</td>\n      <td>0</td>\n      <td>1</td>\n      <td>0</td>\n    </tr>\n    <tr>\n      <th>2</th>\n      <td>11850</td>\n      <td>19</td>\n      <td>2003</td>\n      <td>68663.335223</td>\n      <td>2.111111</td>\n      <td>2.888889</td>\n      <td>2</td>\n      <td>1</td>\n      <td>4</td>\n      <td>2</td>\n      <td>...</td>\n      <td>0</td>\n      <td>0</td>\n      <td>0</td>\n      <td>0</td>\n      <td>0</td>\n      <td>0</td>\n      <td>0</td>\n      <td>0</td>\n      <td>0</td>\n      <td>0</td>\n    </tr>\n    <tr>\n      <th>3</th>\n      <td>11850</td>\n      <td>2</td>\n      <td>2003</td>\n      <td>68663.335223</td>\n      <td>3.000000</td>\n      <td>3.000000</td>\n      <td>1</td>\n      <td>3</td>\n      <td>4</td>\n      <td>2</td>\n      <td>...</td>\n      <td>0</td>\n      <td>0</td>\n      <td>0</td>\n      <td>0</td>\n      <td>0</td>\n      <td>0</td>\n      <td>0</td>\n      <td>0</td>\n      <td>0</td>\n      <td>0</td>\n    </tr>\n    <tr>\n      <th>4</th>\n      <td>5000</td>\n      <td>33</td>\n      <td>2003</td>\n      <td>39705.085279</td>\n      <td>2.031250</td>\n      <td>0.937500</td>\n      <td>2</td>\n      <td>9</td>\n      <td>4</td>\n      <td>3</td>\n      <td>...</td>\n      <td>0</td>\n      <td>0</td>\n      <td>0</td>\n      <td>0</td>\n      <td>0</td>\n      <td>0</td>\n      <td>0</td>\n      <td>1</td>\n      <td>0</td>\n      <td>0</td>\n    </tr>\n    <tr>\n      <th>...</th>\n      <td>...</td>\n      <td>...</td>\n      <td>...</td>\n      <td>...</td>\n      <td>...</td>\n      <td>...</td>\n      <td>...</td>\n      <td>...</td>\n      <td>...</td>\n      <td>...</td>\n      <td>...</td>\n      <td>...</td>\n      <td>...</td>\n      <td>...</td>\n      <td>...</td>\n      <td>...</td>\n      <td>...</td>\n      <td>...</td>\n      <td>...</td>\n      <td>...</td>\n      <td>...</td>\n    </tr>\n    <tr>\n      <th>2837</th>\n      <td>100</td>\n      <td>35</td>\n      <td>2018</td>\n      <td>155415.844527</td>\n      <td>0.705882</td>\n      <td>1.176471</td>\n      <td>10</td>\n      <td>8</td>\n      <td>9</td>\n      <td>6</td>\n      <td>...</td>\n      <td>1</td>\n      <td>0</td>\n      <td>0</td>\n      <td>0</td>\n      <td>0</td>\n      <td>0</td>\n      <td>0</td>\n      <td>0</td>\n      <td>0</td>\n      <td>0</td>\n    </tr>\n    <tr>\n      <th>2838</th>\n      <td>3500</td>\n      <td>8</td>\n      <td>2018</td>\n      <td>97172.740401</td>\n      <td>1.000000</td>\n      <td>1.571429</td>\n      <td>8</td>\n      <td>2</td>\n      <td>9</td>\n      <td>7</td>\n      <td>...</td>\n      <td>0</td>\n      <td>0</td>\n      <td>1</td>\n      <td>0</td>\n      <td>0</td>\n      <td>0</td>\n      <td>0</td>\n      <td>0</td>\n      <td>0</td>\n      <td>0</td>\n    </tr>\n    <tr>\n      <th>2839</th>\n      <td>4300</td>\n      <td>30</td>\n      <td>2018</td>\n      <td>97172.740401</td>\n      <td>0.758621</td>\n      <td>1.344828</td>\n      <td>10</td>\n      <td>3</td>\n      <td>9</td>\n      <td>7</td>\n      <td>...</td>\n      <td>0</td>\n      <td>0</td>\n      <td>1</td>\n      <td>0</td>\n      <td>0</td>\n      <td>0</td>\n      <td>0</td>\n      <td>0</td>\n      <td>0</td>\n      <td>0</td>\n    </tr>\n    <tr>\n      <th>2840</th>\n      <td>4800</td>\n      <td>17</td>\n      <td>2018</td>\n      <td>39797.513591</td>\n      <td>1.062500</td>\n      <td>1.187500</td>\n      <td>9</td>\n      <td>7</td>\n      <td>9</td>\n      <td>3</td>\n      <td>...</td>\n      <td>0</td>\n      <td>0</td>\n      <td>0</td>\n      <td>0</td>\n      <td>0</td>\n      <td>0</td>\n      <td>0</td>\n      <td>0</td>\n      <td>0</td>\n      <td>0</td>\n    </tr>\n    <tr>\n      <th>2841</th>\n      <td>3700</td>\n      <td>23</td>\n      <td>2018</td>\n      <td>39797.513591</td>\n      <td>0.818182</td>\n      <td>1.181818</td>\n      <td>10</td>\n      <td>7</td>\n      <td>9</td>\n      <td>3</td>\n      <td>...</td>\n      <td>0</td>\n      <td>0</td>\n      <td>0</td>\n      <td>0</td>\n      <td>0</td>\n      <td>0</td>\n      <td>0</td>\n      <td>0</td>\n      <td>0</td>\n      <td>0</td>\n    </tr>\n  </tbody>\n</table>\n<p>2842 rows × 57 columns</p>\n</div>"
     },
     "execution_count": 2,
     "metadata": {},
     "output_type": "execute_result"
    }
   ],
   "source": [
    "#Anspielzeit kategorisieren (noon, afternoon, evening)\n",
    "attendance_df['time'] = util.time_categorizer(attendance_df['time'])\n",
    "\n",
    "#Anspielzeit kategorisieren (noon, afternoon, evening)\n",
    "#attendance_df['matchday_cat'] = util.matchday_categorizer(attendance_df['matchday'])\n",
    "#Ergebnisse werden schlechter mit der kategorisierung\n",
    "\n",
    "#nicht benötiget Featuers entfernen (datum, stadion, resultat)\n",
    "attendance_df = attendance_df.drop([\"date\", \"stadium\", \"result\"], axis=1)\n",
    "\n",
    "#One-hot encoding\n",
    "attendance_df = pd.get_dummies(\n",
    "attendance_df, columns=['weekday', 'time', 'hometeam', 'awayteam'], drop_first=True)\n",
    "attendance_df"
   ],
   "metadata": {
    "collapsed": false,
    "pycharm": {
     "name": "#%%\n"
    }
   }
  },
  {
   "cell_type": "code",
   "execution_count": 3,
   "outputs": [],
   "source": [
    "attendance_df.to_csv('../data/matches_transformed.csv', index=False)"
   ],
   "metadata": {
    "collapsed": false,
    "pycharm": {
     "name": "#%%\n"
    }
   }
  },
  {
   "cell_type": "code",
   "execution_count": null,
   "outputs": [
    {
     "data": {
      "text/plain": "Summarize dataset:   0%|          | 0/70 [00:00<?, ?it/s]",
      "application/vnd.jupyter.widget-view+json": {
       "version_major": 2,
       "version_minor": 0,
       "model_id": "64765d36bc394e9fb7312cbb5c61e427"
      }
     },
     "metadata": {},
     "output_type": "display_data"
    }
   ],
   "source": [
    "import pandas_profiling\n",
    "attendance_df.profile_report()"
   ],
   "metadata": {
    "collapsed": false,
    "pycharm": {
     "name": "#%%\n",
     "is_executing": true
    }
   }
  },
  {
   "cell_type": "code",
   "execution_count": null,
   "outputs": [],
   "source": [],
   "metadata": {
    "collapsed": false,
    "pycharm": {
     "name": "#%%\n"
    }
   }
  }
 ],
 "metadata": {
  "kernelspec": {
   "display_name": "Python 3",
   "language": "python",
   "name": "python3"
  },
  "language_info": {
   "codemirror_mode": {
    "name": "ipython",
    "version": 2
   },
   "file_extension": ".py",
   "mimetype": "text/x-python",
   "name": "python",
   "nbconvert_exporter": "python",
   "pygments_lexer": "ipython2",
   "version": "2.7.6"
  }
 },
 "nbformat": 4,
 "nbformat_minor": 0
}