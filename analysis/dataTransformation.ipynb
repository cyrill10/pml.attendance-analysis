{
 "cells": [
  {
   "cell_type": "code",
   "execution_count": 10,
   "metadata": {
    "collapsed": true
   },
   "outputs": [],
   "source": [
    "import pandas as pd\n",
    "import attancanceUtil as util\n",
    "\n",
    "attendance_df = pd.read_csv('../data/matches_prep.csv', sep=',')"
   ]
  },
  {
   "cell_type": "code",
   "execution_count": 11,
   "outputs": [],
   "source": [
    "#Anspielzeit kategorisieren (noon, afternoon, evening)\n",
    "attendance_df['time'] = util.time_categorizer(attendance_df['time'])\n",
    "\n",
    "\n",
    "#nicht benötiget Featuers entfernen (datum, stadion, resultat)\n",
    "attendance_df = attendance_df.drop([\"date\", \"stadium\", \"result\"], axis=1)\n",
    "\n",
    "#One-hot encoding\n",
    "attendance_df = pd.get_dummies(\n",
    "attendance_df, columns=['weekday', 'time', 'hometeam', 'awayteam'], drop_first=True)\n",
    "attendance_df"
   ],
   "metadata": {
    "collapsed": false,
    "pycharm": {
     "name": "#%%\n"
    }
   }
  },
  {
   "cell_type": "code",
   "execution_count": 14,
   "outputs": [],
   "source": [
    "attendance_df.to_csv('bank_transformed.csv', index=False)"
   ],
   "metadata": {
    "collapsed": false,
    "pycharm": {
     "name": "#%%\n"
    }
   }
  },
  {
   "cell_type": "code",
   "execution_count": null,
   "outputs": [],
   "source": [],
   "metadata": {
    "collapsed": false,
    "pycharm": {
     "name": "#%%\n"
    }
   }
  }
 ],
 "metadata": {
  "kernelspec": {
   "display_name": "Python 3",
   "language": "python",
   "name": "python3"
  },
  "language_info": {
   "codemirror_mode": {
    "name": "ipython",
    "version": 2
   },
   "file_extension": ".py",
   "mimetype": "text/x-python",
   "name": "python",
   "nbconvert_exporter": "python",
   "pygments_lexer": "ipython2",
   "version": "2.7.6"
  }
 },
 "nbformat": 4,
 "nbformat_minor": 0
}