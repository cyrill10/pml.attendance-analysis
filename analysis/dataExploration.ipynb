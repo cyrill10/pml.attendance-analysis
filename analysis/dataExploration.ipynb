{
 "cells": [
  {
   "cell_type": "code",
   "execution_count": 11,
   "metadata": {
    "collapsed": false,
    "jupyter": {
     "outputs_hidden": false
    },
    "pycharm": {
     "name": "#%%\n"
    }
   },
   "outputs": [
    {
     "data": {
      "text/plain": "       weekday        date   time           stadium  attendance  \\\n0      Sonntag  2004-03-21  14:30  Stadion Wankdorf        7500   \n1      Sonntag  2003-11-23  16:15  Stadion Wankdorf       11000   \n2      Sonntag  2004-02-15  16:00  Stadion Wankdorf       11850   \n3     Dienstag  2003-07-22  19:30  Stadion Wankdorf       11850   \n4      Sonntag  2004-05-09  16:15  Stadion Wankdorf        5000   \n...        ...         ...    ...               ...         ...   \n2837  Mittwoch  2019-05-22  20:00        Letzigrund         100   \n2838  Dienstag  2018-09-25  20:00        Letzigrund        3500   \n2839   Samstag  2019-04-20  19:00        Letzigrund        4300   \n2840   Sonntag  2018-12-09  16:00        Letzigrund        4800   \n2841   Samstag  2019-03-02  19:00        Letzigrund        3700   \n\n                     hometeam            awayteam  matchday result  season  \\\n0              BSC Young Boys     Servette Genève        25    4:2    2003   \n1              BSC Young Boys     Servette Genève        17    3:0    2003   \n2              BSC Young Boys            FC Basel        19    0:1    2003   \n3              BSC Young Boys            FC Basel         2    2:3    2003   \n4              BSC Young Boys  Neuchâtel Xamax FC        33    3:1    2003   \n...                       ...                 ...       ...    ...     ...   \n2837  Grasshopper Club Zürich             FC Sion        35    0:3    2018   \n2838  Grasshopper Club Zürich             FC Thun         8    0:2    2018   \n2839  Grasshopper Club Zürich             FC Thun        30    1:1    2018   \n2840  Grasshopper Club Zürich           FC Luzern        17    2:3    2018   \n2841  Grasshopper Club Zürich           FC Luzern        23    1:3    2018   \n\n      team_distance  points_home  points_away  \n0     129637.370939     2.041667     1.750000  \n1     129637.370939     2.125000     1.750000  \n2      68663.335223     2.111111     2.888889  \n3      68663.335223     3.000000     3.000000  \n4      39705.085279     2.031250     0.937500  \n...             ...          ...          ...  \n2837  155415.844527     0.705882     1.176471  \n2838   97172.740401     1.000000     1.571429  \n2839   97172.740401     0.758621     1.344828  \n2840   39797.513591     1.062500     1.187500  \n2841   39797.513591     0.818182     1.181818  \n\n[2842 rows x 13 columns]",
      "text/html": "<div>\n<style scoped>\n    .dataframe tbody tr th:only-of-type {\n        vertical-align: middle;\n    }\n\n    .dataframe tbody tr th {\n        vertical-align: top;\n    }\n\n    .dataframe thead th {\n        text-align: right;\n    }\n</style>\n<table border=\"1\" class=\"dataframe\">\n  <thead>\n    <tr style=\"text-align: right;\">\n      <th></th>\n      <th>weekday</th>\n      <th>date</th>\n      <th>time</th>\n      <th>stadium</th>\n      <th>attendance</th>\n      <th>hometeam</th>\n      <th>awayteam</th>\n      <th>matchday</th>\n      <th>result</th>\n      <th>season</th>\n      <th>team_distance</th>\n      <th>points_home</th>\n      <th>points_away</th>\n    </tr>\n  </thead>\n  <tbody>\n    <tr>\n      <th>0</th>\n      <td>Sonntag</td>\n      <td>2004-03-21</td>\n      <td>14:30</td>\n      <td>Stadion Wankdorf</td>\n      <td>7500</td>\n      <td>BSC Young Boys</td>\n      <td>Servette Genève</td>\n      <td>25</td>\n      <td>4:2</td>\n      <td>2003</td>\n      <td>129637.370939</td>\n      <td>2.041667</td>\n      <td>1.750000</td>\n    </tr>\n    <tr>\n      <th>1</th>\n      <td>Sonntag</td>\n      <td>2003-11-23</td>\n      <td>16:15</td>\n      <td>Stadion Wankdorf</td>\n      <td>11000</td>\n      <td>BSC Young Boys</td>\n      <td>Servette Genève</td>\n      <td>17</td>\n      <td>3:0</td>\n      <td>2003</td>\n      <td>129637.370939</td>\n      <td>2.125000</td>\n      <td>1.750000</td>\n    </tr>\n    <tr>\n      <th>2</th>\n      <td>Sonntag</td>\n      <td>2004-02-15</td>\n      <td>16:00</td>\n      <td>Stadion Wankdorf</td>\n      <td>11850</td>\n      <td>BSC Young Boys</td>\n      <td>FC Basel</td>\n      <td>19</td>\n      <td>0:1</td>\n      <td>2003</td>\n      <td>68663.335223</td>\n      <td>2.111111</td>\n      <td>2.888889</td>\n    </tr>\n    <tr>\n      <th>3</th>\n      <td>Dienstag</td>\n      <td>2003-07-22</td>\n      <td>19:30</td>\n      <td>Stadion Wankdorf</td>\n      <td>11850</td>\n      <td>BSC Young Boys</td>\n      <td>FC Basel</td>\n      <td>2</td>\n      <td>2:3</td>\n      <td>2003</td>\n      <td>68663.335223</td>\n      <td>3.000000</td>\n      <td>3.000000</td>\n    </tr>\n    <tr>\n      <th>4</th>\n      <td>Sonntag</td>\n      <td>2004-05-09</td>\n      <td>16:15</td>\n      <td>Stadion Wankdorf</td>\n      <td>5000</td>\n      <td>BSC Young Boys</td>\n      <td>Neuchâtel Xamax FC</td>\n      <td>33</td>\n      <td>3:1</td>\n      <td>2003</td>\n      <td>39705.085279</td>\n      <td>2.031250</td>\n      <td>0.937500</td>\n    </tr>\n    <tr>\n      <th>...</th>\n      <td>...</td>\n      <td>...</td>\n      <td>...</td>\n      <td>...</td>\n      <td>...</td>\n      <td>...</td>\n      <td>...</td>\n      <td>...</td>\n      <td>...</td>\n      <td>...</td>\n      <td>...</td>\n      <td>...</td>\n      <td>...</td>\n    </tr>\n    <tr>\n      <th>2837</th>\n      <td>Mittwoch</td>\n      <td>2019-05-22</td>\n      <td>20:00</td>\n      <td>Letzigrund</td>\n      <td>100</td>\n      <td>Grasshopper Club Zürich</td>\n      <td>FC Sion</td>\n      <td>35</td>\n      <td>0:3</td>\n      <td>2018</td>\n      <td>155415.844527</td>\n      <td>0.705882</td>\n      <td>1.176471</td>\n    </tr>\n    <tr>\n      <th>2838</th>\n      <td>Dienstag</td>\n      <td>2018-09-25</td>\n      <td>20:00</td>\n      <td>Letzigrund</td>\n      <td>3500</td>\n      <td>Grasshopper Club Zürich</td>\n      <td>FC Thun</td>\n      <td>8</td>\n      <td>0:2</td>\n      <td>2018</td>\n      <td>97172.740401</td>\n      <td>1.000000</td>\n      <td>1.571429</td>\n    </tr>\n    <tr>\n      <th>2839</th>\n      <td>Samstag</td>\n      <td>2019-04-20</td>\n      <td>19:00</td>\n      <td>Letzigrund</td>\n      <td>4300</td>\n      <td>Grasshopper Club Zürich</td>\n      <td>FC Thun</td>\n      <td>30</td>\n      <td>1:1</td>\n      <td>2018</td>\n      <td>97172.740401</td>\n      <td>0.758621</td>\n      <td>1.344828</td>\n    </tr>\n    <tr>\n      <th>2840</th>\n      <td>Sonntag</td>\n      <td>2018-12-09</td>\n      <td>16:00</td>\n      <td>Letzigrund</td>\n      <td>4800</td>\n      <td>Grasshopper Club Zürich</td>\n      <td>FC Luzern</td>\n      <td>17</td>\n      <td>2:3</td>\n      <td>2018</td>\n      <td>39797.513591</td>\n      <td>1.062500</td>\n      <td>1.187500</td>\n    </tr>\n    <tr>\n      <th>2841</th>\n      <td>Samstag</td>\n      <td>2019-03-02</td>\n      <td>19:00</td>\n      <td>Letzigrund</td>\n      <td>3700</td>\n      <td>Grasshopper Club Zürich</td>\n      <td>FC Luzern</td>\n      <td>23</td>\n      <td>1:3</td>\n      <td>2018</td>\n      <td>39797.513591</td>\n      <td>0.818182</td>\n      <td>1.181818</td>\n    </tr>\n  </tbody>\n</table>\n<p>2842 rows × 13 columns</p>\n</div>"
     },
     "execution_count": 11,
     "metadata": {},
     "output_type": "execute_result"
    }
   ],
   "source": [
    "import pandas as pd\n",
    "import numpy as np\n",
    "import matplotlib.pyplot as plt\n",
    "import seaborn as sns\n",
    "\n",
    "attendance_df = pd.read_csv('../data/matches_prep.csv', sep=',')\n",
    "attendance_df"
   ]
  },
  {
   "cell_type": "code",
   "execution_count": 12,
   "metadata": {
    "pycharm": {
     "name": "#%%\n"
    }
   },
   "outputs": [
    {
     "data": {
      "text/plain": "            names    scale                    dType  NAs       Levels\n0         weekday  nominal            <class 'str'>    0     7.000000\n1            date  nominal            <class 'str'>    0  1170.000000\n2            time  nominal            <class 'str'>    0    27.000000\n3         stadium  nominal            <class 'str'>    0    28.000000\n4      attendance   metric    <class 'numpy.int64'>    0          NaN\n5        hometeam  nominal            <class 'str'>    0    18.000000\n6        awayteam  nominal            <class 'str'>    0    18.000000\n7        matchday  ordinal    <class 'numpy.int64'>    0    18.396904\n8          result  nominal            <class 'str'>    0    51.000000\n9          season  ordinal    <class 'numpy.int64'>    0  2010.539761\n10  team_distance   metric  <class 'numpy.float64'>    0          NaN\n11    points_home   metric  <class 'numpy.float64'>    0          NaN\n12    points_away   metric  <class 'numpy.float64'>    0          NaN",
      "text/html": "<div>\n<style scoped>\n    .dataframe tbody tr th:only-of-type {\n        vertical-align: middle;\n    }\n\n    .dataframe tbody tr th {\n        vertical-align: top;\n    }\n\n    .dataframe thead th {\n        text-align: right;\n    }\n</style>\n<table border=\"1\" class=\"dataframe\">\n  <thead>\n    <tr style=\"text-align: right;\">\n      <th></th>\n      <th>names</th>\n      <th>scale</th>\n      <th>dType</th>\n      <th>NAs</th>\n      <th>Levels</th>\n    </tr>\n  </thead>\n  <tbody>\n    <tr>\n      <th>0</th>\n      <td>weekday</td>\n      <td>nominal</td>\n      <td>&lt;class 'str'&gt;</td>\n      <td>0</td>\n      <td>7.000000</td>\n    </tr>\n    <tr>\n      <th>1</th>\n      <td>date</td>\n      <td>nominal</td>\n      <td>&lt;class 'str'&gt;</td>\n      <td>0</td>\n      <td>1170.000000</td>\n    </tr>\n    <tr>\n      <th>2</th>\n      <td>time</td>\n      <td>nominal</td>\n      <td>&lt;class 'str'&gt;</td>\n      <td>0</td>\n      <td>27.000000</td>\n    </tr>\n    <tr>\n      <th>3</th>\n      <td>stadium</td>\n      <td>nominal</td>\n      <td>&lt;class 'str'&gt;</td>\n      <td>0</td>\n      <td>28.000000</td>\n    </tr>\n    <tr>\n      <th>4</th>\n      <td>attendance</td>\n      <td>metric</td>\n      <td>&lt;class 'numpy.int64'&gt;</td>\n      <td>0</td>\n      <td>NaN</td>\n    </tr>\n    <tr>\n      <th>5</th>\n      <td>hometeam</td>\n      <td>nominal</td>\n      <td>&lt;class 'str'&gt;</td>\n      <td>0</td>\n      <td>18.000000</td>\n    </tr>\n    <tr>\n      <th>6</th>\n      <td>awayteam</td>\n      <td>nominal</td>\n      <td>&lt;class 'str'&gt;</td>\n      <td>0</td>\n      <td>18.000000</td>\n    </tr>\n    <tr>\n      <th>7</th>\n      <td>matchday</td>\n      <td>ordinal</td>\n      <td>&lt;class 'numpy.int64'&gt;</td>\n      <td>0</td>\n      <td>18.396904</td>\n    </tr>\n    <tr>\n      <th>8</th>\n      <td>result</td>\n      <td>nominal</td>\n      <td>&lt;class 'str'&gt;</td>\n      <td>0</td>\n      <td>51.000000</td>\n    </tr>\n    <tr>\n      <th>9</th>\n      <td>season</td>\n      <td>ordinal</td>\n      <td>&lt;class 'numpy.int64'&gt;</td>\n      <td>0</td>\n      <td>2010.539761</td>\n    </tr>\n    <tr>\n      <th>10</th>\n      <td>team_distance</td>\n      <td>metric</td>\n      <td>&lt;class 'numpy.float64'&gt;</td>\n      <td>0</td>\n      <td>NaN</td>\n    </tr>\n    <tr>\n      <th>11</th>\n      <td>points_home</td>\n      <td>metric</td>\n      <td>&lt;class 'numpy.float64'&gt;</td>\n      <td>0</td>\n      <td>NaN</td>\n    </tr>\n    <tr>\n      <th>12</th>\n      <td>points_away</td>\n      <td>metric</td>\n      <td>&lt;class 'numpy.float64'&gt;</td>\n      <td>0</td>\n      <td>NaN</td>\n    </tr>\n  </tbody>\n</table>\n</div>"
     },
     "execution_count": 12,
     "metadata": {},
     "output_type": "execute_result"
    }
   ],
   "source": [
    "# Display all the colums with their type\n",
    "attendance_info = pd.DataFrame()\n",
    "attendance_info.insert(loc=0, column='names', value=attendance_df.columns)\n",
    "attendance_info.insert(loc=1, column='scale', value=(\"nominal\", \"nominal\", \"nominal\", \"nominal\", \"metric\", \"nominal\", \"nominal\", \"ordinal\", \"nominal\", \"ordinal\", \"metric\", \"metric\", \"metric\"))\n",
    "\n",
    "dtype = list()\n",
    "for column in attendance_df.columns:\n",
    "    dtype.append(type(attendance_df[column][0]))\n",
    "\n",
    "attendance_info.insert(loc=2, column='dType', value=dtype)\n",
    "\n",
    "na_list = attendance_df.isna().sum()\n",
    "attendance_info.insert(loc=3, column='NAs', value=na_list.to_list())\n",
    "\n",
    "levels_list = list()\n",
    "for i,columnName in enumerate(attendance_info[\"names\"]):\n",
    "    if attendance_info[\"scale\"][i] != \"metric\":\n",
    "        levels_list.append(attendance_df[columnName].describe().to_list()[1])\n",
    "    else:\n",
    "        levels_list.append(None)\n",
    "\n",
    "attendance_info.insert(loc=4, column='Levels', value=levels_list)\n",
    "\n",
    "attendance_info"
   ]
  },
  {
   "cell_type": "code",
   "execution_count": 14,
   "outputs": [
    {
     "data": {
      "text/plain": "      attendance  matchday  season  team_distance  points_home  points_away\n0           7500        25    2003  129637.370939     2.041667     1.750000\n1          11000        17    2003  129637.370939     2.125000     1.750000\n2          11850        19    2003   68663.335223     2.111111     2.888889\n3          11850         2    2003   68663.335223     3.000000     3.000000\n4           5000        33    2003   39705.085279     2.031250     0.937500\n...          ...       ...     ...            ...          ...          ...\n2837         100        35    2018  155415.844527     0.705882     1.176471\n2838        3500         8    2018   97172.740401     1.000000     1.571429\n2839        4300        30    2018   97172.740401     0.758621     1.344828\n2840        4800        17    2018   39797.513591     1.062500     1.187500\n2841        3700        23    2018   39797.513591     0.818182     1.181818\n\n[2842 rows x 6 columns]",
      "text/html": "<div>\n<style scoped>\n    .dataframe tbody tr th:only-of-type {\n        vertical-align: middle;\n    }\n\n    .dataframe tbody tr th {\n        vertical-align: top;\n    }\n\n    .dataframe thead th {\n        text-align: right;\n    }\n</style>\n<table border=\"1\" class=\"dataframe\">\n  <thead>\n    <tr style=\"text-align: right;\">\n      <th></th>\n      <th>attendance</th>\n      <th>matchday</th>\n      <th>season</th>\n      <th>team_distance</th>\n      <th>points_home</th>\n      <th>points_away</th>\n    </tr>\n  </thead>\n  <tbody>\n    <tr>\n      <th>0</th>\n      <td>7500</td>\n      <td>25</td>\n      <td>2003</td>\n      <td>129637.370939</td>\n      <td>2.041667</td>\n      <td>1.750000</td>\n    </tr>\n    <tr>\n      <th>1</th>\n      <td>11000</td>\n      <td>17</td>\n      <td>2003</td>\n      <td>129637.370939</td>\n      <td>2.125000</td>\n      <td>1.750000</td>\n    </tr>\n    <tr>\n      <th>2</th>\n      <td>11850</td>\n      <td>19</td>\n      <td>2003</td>\n      <td>68663.335223</td>\n      <td>2.111111</td>\n      <td>2.888889</td>\n    </tr>\n    <tr>\n      <th>3</th>\n      <td>11850</td>\n      <td>2</td>\n      <td>2003</td>\n      <td>68663.335223</td>\n      <td>3.000000</td>\n      <td>3.000000</td>\n    </tr>\n    <tr>\n      <th>4</th>\n      <td>5000</td>\n      <td>33</td>\n      <td>2003</td>\n      <td>39705.085279</td>\n      <td>2.031250</td>\n      <td>0.937500</td>\n    </tr>\n    <tr>\n      <th>...</th>\n      <td>...</td>\n      <td>...</td>\n      <td>...</td>\n      <td>...</td>\n      <td>...</td>\n      <td>...</td>\n    </tr>\n    <tr>\n      <th>2837</th>\n      <td>100</td>\n      <td>35</td>\n      <td>2018</td>\n      <td>155415.844527</td>\n      <td>0.705882</td>\n      <td>1.176471</td>\n    </tr>\n    <tr>\n      <th>2838</th>\n      <td>3500</td>\n      <td>8</td>\n      <td>2018</td>\n      <td>97172.740401</td>\n      <td>1.000000</td>\n      <td>1.571429</td>\n    </tr>\n    <tr>\n      <th>2839</th>\n      <td>4300</td>\n      <td>30</td>\n      <td>2018</td>\n      <td>97172.740401</td>\n      <td>0.758621</td>\n      <td>1.344828</td>\n    </tr>\n    <tr>\n      <th>2840</th>\n      <td>4800</td>\n      <td>17</td>\n      <td>2018</td>\n      <td>39797.513591</td>\n      <td>1.062500</td>\n      <td>1.187500</td>\n    </tr>\n    <tr>\n      <th>2841</th>\n      <td>3700</td>\n      <td>23</td>\n      <td>2018</td>\n      <td>39797.513591</td>\n      <td>0.818182</td>\n      <td>1.181818</td>\n    </tr>\n  </tbody>\n</table>\n<p>2842 rows × 6 columns</p>\n</div>"
     },
     "execution_count": 14,
     "metadata": {},
     "output_type": "execute_result"
    }
   ],
   "source": [
    "temp_df = attendance_df.drop(['weekday', 'date', 'time', 'stadium', 'hometeam', 'awayteam', 'result'], axis=1)\n",
    "temp_df"
   ],
   "metadata": {
    "collapsed": false,
    "pycharm": {
     "name": "#%%\n"
    }
   }
  },
  {
   "cell_type": "code",
   "execution_count": 17,
   "outputs": [
    {
     "name": "stdout",
     "output_type": "stream",
     "text": [
      "count     2842.000000\n",
      "mean     10409.346939\n",
      "std       7293.093498\n",
      "min        100.000000\n",
      "25%       4960.750000\n",
      "50%       8200.000000\n",
      "75%      13173.750000\n",
      "max      38015.000000\n",
      "Name: attendance, dtype: float64\n",
      "count      2842.000000\n",
      "mean     102692.631735\n",
      "std       51618.881058\n",
      "min           0.000000\n",
      "25%       64372.153498\n",
      "50%       95455.450656\n",
      "75%      140690.729339\n",
      "max      281364.151242\n",
      "Name: team_distance, dtype: float64\n",
      "count    2842.000000\n",
      "mean        1.285905\n",
      "std         0.919624\n",
      "min       -33.000000\n",
      "25%         0.948026\n",
      "50%         1.266667\n",
      "75%         1.666667\n",
      "max         3.000000\n",
      "Name: points_home, dtype: float64\n",
      "count    2842.000000\n",
      "mean        1.318732\n",
      "std         0.758058\n",
      "min       -16.500000\n",
      "25%         0.965805\n",
      "50%         1.285714\n",
      "75%         1.700000\n",
      "max         3.000000\n",
      "Name: points_away, dtype: float64\n"
     ]
    }
   ],
   "source": [
    "print(temp_df['attendance'].describe())\n",
    "print(temp_df['team_distance'].describe())\n",
    "print(temp_df['points_home'].describe())\n",
    "print(temp_df['points_away'].describe())"
   ],
   "metadata": {
    "collapsed": false,
    "pycharm": {
     "name": "#%%\n"
    }
   }
  },
  {
   "cell_type": "code",
   "execution_count": null,
   "outputs": [],
   "source": [],
   "metadata": {
    "collapsed": false,
    "pycharm": {
     "name": "#%%\n"
    }
   }
  }
 ],
 "metadata": {
  "kernelspec": {
   "name": "python3",
   "language": "python",
   "display_name": "Python 3"
  },
  "language_info": {
   "codemirror_mode": {
    "name": "ipython",
    "version": 3
   },
   "file_extension": ".py",
   "mimetype": "text/x-python",
   "name": "python",
   "nbconvert_exporter": "python",
   "pygments_lexer": "ipython3",
   "version": "3.8.2"
  }
 },
 "nbformat": 4,
 "nbformat_minor": 4
}