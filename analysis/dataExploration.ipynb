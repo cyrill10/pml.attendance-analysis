{
 "cells": [
  {
   "cell_type": "code",
   "execution_count": 23,
   "metadata": {
    "collapsed": false,
    "jupyter": {
     "outputs_hidden": false
    },
    "pycharm": {
     "name": "#%%\n"
    }
   },
   "outputs": [
    {
     "data": {
      "text/plain": "       weekday                 date   time           stadium  attendance  \\\n0      Sonntag        21. März 2004  14:30  Stadion Wankdorf        7500   \n1      Sonntag    23. November 2003  16:15  Stadion Wankdorf       11000   \n2      Sonntag     15. Februar 2004  16:00  Stadion Wankdorf       11850   \n3     Dienstag        22. Juli 2003  19:30  Stadion Wankdorf       11850   \n4      Sonntag          9. Mai 2004  16:15  Stadion Wankdorf        5000   \n...        ...                  ...    ...               ...         ...   \n2855  Mittwoch         22. Mai 2019  20:00        Letzigrund         100   \n2856  Dienstag   25. September 2018  20:00        Letzigrund        3500   \n2857   Samstag       20. April 2019  19:00        Letzigrund        4300   \n2858   Sonntag     9. Dezember 2018  16:00        Letzigrund        4800   \n2859   Samstag         2. März 2019  19:00        Letzigrund        3700   \n\n                     hometeam            awayteam  matchday result  \n0              BSC Young Boys     Servette Genève        25    4:2  \n1              BSC Young Boys     Servette Genève        17    3:0  \n2              BSC Young Boys            FC Basel        19    0:1  \n3              BSC Young Boys            FC Basel         2    2:3  \n4              BSC Young Boys  Neuchâtel Xamax FC        33    3:1  \n...                       ...                 ...       ...    ...  \n2855  Grasshopper Club Zürich             FC Sion        35    0:3  \n2856  Grasshopper Club Zürich             FC Thun         8    0:2  \n2857  Grasshopper Club Zürich             FC Thun        30    1:1  \n2858  Grasshopper Club Zürich           FC Luzern        17    2:3  \n2859  Grasshopper Club Zürich           FC Luzern        23    1:3  \n\n[2842 rows x 9 columns]",
      "text/html": "<div>\n<style scoped>\n    .dataframe tbody tr th:only-of-type {\n        vertical-align: middle;\n    }\n\n    .dataframe tbody tr th {\n        vertical-align: top;\n    }\n\n    .dataframe thead th {\n        text-align: right;\n    }\n</style>\n<table border=\"1\" class=\"dataframe\">\n  <thead>\n    <tr style=\"text-align: right;\">\n      <th></th>\n      <th>weekday</th>\n      <th>date</th>\n      <th>time</th>\n      <th>stadium</th>\n      <th>attendance</th>\n      <th>hometeam</th>\n      <th>awayteam</th>\n      <th>matchday</th>\n      <th>result</th>\n    </tr>\n  </thead>\n  <tbody>\n    <tr>\n      <th>0</th>\n      <td>Sonntag</td>\n      <td>21. März 2004</td>\n      <td>14:30</td>\n      <td>Stadion Wankdorf</td>\n      <td>7500</td>\n      <td>BSC Young Boys</td>\n      <td>Servette Genève</td>\n      <td>25</td>\n      <td>4:2</td>\n    </tr>\n    <tr>\n      <th>1</th>\n      <td>Sonntag</td>\n      <td>23. November 2003</td>\n      <td>16:15</td>\n      <td>Stadion Wankdorf</td>\n      <td>11000</td>\n      <td>BSC Young Boys</td>\n      <td>Servette Genève</td>\n      <td>17</td>\n      <td>3:0</td>\n    </tr>\n    <tr>\n      <th>2</th>\n      <td>Sonntag</td>\n      <td>15. Februar 2004</td>\n      <td>16:00</td>\n      <td>Stadion Wankdorf</td>\n      <td>11850</td>\n      <td>BSC Young Boys</td>\n      <td>FC Basel</td>\n      <td>19</td>\n      <td>0:1</td>\n    </tr>\n    <tr>\n      <th>3</th>\n      <td>Dienstag</td>\n      <td>22. Juli 2003</td>\n      <td>19:30</td>\n      <td>Stadion Wankdorf</td>\n      <td>11850</td>\n      <td>BSC Young Boys</td>\n      <td>FC Basel</td>\n      <td>2</td>\n      <td>2:3</td>\n    </tr>\n    <tr>\n      <th>4</th>\n      <td>Sonntag</td>\n      <td>9. Mai 2004</td>\n      <td>16:15</td>\n      <td>Stadion Wankdorf</td>\n      <td>5000</td>\n      <td>BSC Young Boys</td>\n      <td>Neuchâtel Xamax FC</td>\n      <td>33</td>\n      <td>3:1</td>\n    </tr>\n    <tr>\n      <th>...</th>\n      <td>...</td>\n      <td>...</td>\n      <td>...</td>\n      <td>...</td>\n      <td>...</td>\n      <td>...</td>\n      <td>...</td>\n      <td>...</td>\n      <td>...</td>\n    </tr>\n    <tr>\n      <th>2855</th>\n      <td>Mittwoch</td>\n      <td>22. Mai 2019</td>\n      <td>20:00</td>\n      <td>Letzigrund</td>\n      <td>100</td>\n      <td>Grasshopper Club Zürich</td>\n      <td>FC Sion</td>\n      <td>35</td>\n      <td>0:3</td>\n    </tr>\n    <tr>\n      <th>2856</th>\n      <td>Dienstag</td>\n      <td>25. September 2018</td>\n      <td>20:00</td>\n      <td>Letzigrund</td>\n      <td>3500</td>\n      <td>Grasshopper Club Zürich</td>\n      <td>FC Thun</td>\n      <td>8</td>\n      <td>0:2</td>\n    </tr>\n    <tr>\n      <th>2857</th>\n      <td>Samstag</td>\n      <td>20. April 2019</td>\n      <td>19:00</td>\n      <td>Letzigrund</td>\n      <td>4300</td>\n      <td>Grasshopper Club Zürich</td>\n      <td>FC Thun</td>\n      <td>30</td>\n      <td>1:1</td>\n    </tr>\n    <tr>\n      <th>2858</th>\n      <td>Sonntag</td>\n      <td>9. Dezember 2018</td>\n      <td>16:00</td>\n      <td>Letzigrund</td>\n      <td>4800</td>\n      <td>Grasshopper Club Zürich</td>\n      <td>FC Luzern</td>\n      <td>17</td>\n      <td>2:3</td>\n    </tr>\n    <tr>\n      <th>2859</th>\n      <td>Samstag</td>\n      <td>2. März 2019</td>\n      <td>19:00</td>\n      <td>Letzigrund</td>\n      <td>3700</td>\n      <td>Grasshopper Club Zürich</td>\n      <td>FC Luzern</td>\n      <td>23</td>\n      <td>1:3</td>\n    </tr>\n  </tbody>\n</table>\n<p>2842 rows × 9 columns</p>\n</div>"
     },
     "execution_count": 23,
     "metadata": {},
     "output_type": "execute_result"
    }
   ],
   "source": [
    "import pandas as pd\n",
    "import numpy as np\n",
    "import matplotlib.pyplot as plt\n",
    "import seaborn as sns\n",
    "\n",
    "attendance_df = pd.read_csv('/Users/cyrillbader/Code/pml-attendance-analysis/data/matches.csv', sep=',')"
   ]
  },
  {
   "cell_type": "code",
   "execution_count": 32,
   "metadata": {
    "pycharm": {
     "name": "#%%\n"
    }
   },
   "outputs": [
    {
     "data": {
      "text/plain": "        names    scale                  dType  NAs       Levels\n0     weekday  ordinal          <class 'str'>    0     7.000000\n1        date  ordinal          <class 'str'>    0  1170.000000\n2        time  ordinal          <class 'str'>    0    27.000000\n3     stadium  nominal          <class 'str'>    0    28.000000\n4  attendance   metric  <class 'numpy.int64'>    0          NaN\n5    hometeam  nominal          <class 'str'>    0    18.000000\n6    awayteam  nominal          <class 'str'>    0    18.000000\n7    matchday  ordinal  <class 'numpy.int64'>    0    18.396904\n8      result  nominal          <class 'str'>    0    51.000000",
      "text/html": "<div>\n<style scoped>\n    .dataframe tbody tr th:only-of-type {\n        vertical-align: middle;\n    }\n\n    .dataframe tbody tr th {\n        vertical-align: top;\n    }\n\n    .dataframe thead th {\n        text-align: right;\n    }\n</style>\n<table border=\"1\" class=\"dataframe\">\n  <thead>\n    <tr style=\"text-align: right;\">\n      <th></th>\n      <th>names</th>\n      <th>scale</th>\n      <th>dType</th>\n      <th>NAs</th>\n      <th>Levels</th>\n    </tr>\n  </thead>\n  <tbody>\n    <tr>\n      <th>0</th>\n      <td>weekday</td>\n      <td>ordinal</td>\n      <td>&lt;class 'str'&gt;</td>\n      <td>0</td>\n      <td>7.000000</td>\n    </tr>\n    <tr>\n      <th>1</th>\n      <td>date</td>\n      <td>ordinal</td>\n      <td>&lt;class 'str'&gt;</td>\n      <td>0</td>\n      <td>1170.000000</td>\n    </tr>\n    <tr>\n      <th>2</th>\n      <td>time</td>\n      <td>ordinal</td>\n      <td>&lt;class 'str'&gt;</td>\n      <td>0</td>\n      <td>27.000000</td>\n    </tr>\n    <tr>\n      <th>3</th>\n      <td>stadium</td>\n      <td>nominal</td>\n      <td>&lt;class 'str'&gt;</td>\n      <td>0</td>\n      <td>28.000000</td>\n    </tr>\n    <tr>\n      <th>4</th>\n      <td>attendance</td>\n      <td>metric</td>\n      <td>&lt;class 'numpy.int64'&gt;</td>\n      <td>0</td>\n      <td>NaN</td>\n    </tr>\n    <tr>\n      <th>5</th>\n      <td>hometeam</td>\n      <td>nominal</td>\n      <td>&lt;class 'str'&gt;</td>\n      <td>0</td>\n      <td>18.000000</td>\n    </tr>\n    <tr>\n      <th>6</th>\n      <td>awayteam</td>\n      <td>nominal</td>\n      <td>&lt;class 'str'&gt;</td>\n      <td>0</td>\n      <td>18.000000</td>\n    </tr>\n    <tr>\n      <th>7</th>\n      <td>matchday</td>\n      <td>ordinal</td>\n      <td>&lt;class 'numpy.int64'&gt;</td>\n      <td>0</td>\n      <td>18.396904</td>\n    </tr>\n    <tr>\n      <th>8</th>\n      <td>result</td>\n      <td>nominal</td>\n      <td>&lt;class 'str'&gt;</td>\n      <td>0</td>\n      <td>51.000000</td>\n    </tr>\n  </tbody>\n</table>\n</div>"
     },
     "execution_count": 32,
     "metadata": {},
     "output_type": "execute_result"
    }
   ],
   "source": [
    "attendance_info = pd.DataFrame()\n",
    "attendance_info.insert(loc=0, column='names', value=attendance_df.columns)\n",
    "attendance_info.insert(loc=1, column='scale', value=(\"nominal\", \"nominal\", \"nominal\", \"nominal\", \"metric\", \"nominal\", \"nominal\", \"ordinal\", \"nominal\"))\n",
    "\n",
    "dtype = list()\n",
    "for column in attendance_df.columns:\n",
    "    dtype.append(type(attendance_df[column][0]))\n",
    "\n",
    "attendance_info.insert(loc=2, column='dType', value=dtype)\n",
    "\n",
    "na_list = attendance_df.isna().sum()\n",
    "attendance_info.insert(loc=3, column='NAs', value=na_list.to_list())\n",
    "\n",
    "levels_list = list()\n",
    "for i,columnName in enumerate(attendance_info[\"names\"]):\n",
    "    if attendance_info[\"scale\"][i] != \"metric\":\n",
    "        levels_list.append(attendance_df[columnName].describe().to_list()[1])\n",
    "    else:\n",
    "        levels_list.append(None)\n",
    "\n",
    "attendance_info.insert(loc=4, column='Levels', value=levels_list)\n",
    "\n",
    "attendance_info\n"
   ]
  }
 ],
 "metadata": {
  "kernelspec": {
   "name": "python3",
   "language": "python",
   "display_name": "Python 3"
  },
  "language_info": {
   "codemirror_mode": {
    "name": "ipython",
    "version": 3
   },
   "file_extension": ".py",
   "mimetype": "text/x-python",
   "name": "python",
   "nbconvert_exporter": "python",
   "pygments_lexer": "ipython3",
   "version": "3.8.2"
  }
 },
 "nbformat": 4,
 "nbformat_minor": 4
}