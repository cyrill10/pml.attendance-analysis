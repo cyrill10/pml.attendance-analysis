{
 "cells": [
  {
   "cell_type": "code",
   "execution_count": 1,
   "metadata": {
    "collapsed": true
   },
   "outputs": [],
   "source": [
    "import pandas as pd\n",
    "import matplotlib.pyplot as plt\n",
    "import seaborn as sns\n",
    "sns.set()\n",
    "\n",
    "attendance_df = pd.read_csv('../data/matches_transformed.csv', sep=',')\n",
    "\n",
    "X = attendance_df.drop('attendance', axis=1)\n",
    "y = attendance_df['attendance']"
   ]
  },
  {
   "cell_type": "code",
   "execution_count": 2,
   "outputs": [],
   "source": [
    "## Features standardisieren\n",
    "from sklearn.preprocessing import StandardScaler\n",
    "scaler = StandardScaler()\n",
    "scaler.fit(X)\n",
    "X_sc = scaler.transform(X)"
   ],
   "metadata": {
    "collapsed": false,
    "pycharm": {
     "name": "#%%\n"
    }
   }
  },
  {
   "cell_type": "code",
   "execution_count": 9,
   "outputs": [],
   "source": [
    "from sklearn.linear_model import LinearRegression\n",
    "from sklearn.linear_model import Lasso\n",
    "from sklearn.linear_model import Ridge\n",
    "from sklearn.neighbors import KNeighborsRegressor\n",
    "from sklearn.tree import DecisionTreeRegressor\n",
    "from sklearn.ensemble import RandomForestRegressor\n",
    "from sklearn.ensemble import AdaBoostRegressor\n",
    "from sklearn.ensemble import GradientBoostingRegressor\n",
    "from sklearn.experimental import enable_hist_gradient_boosting\n",
    "from sklearn.ensemble import HistGradientBoostingRegressor\n",
    "from sklearn.neural_network import MLPRegressor\n",
    "\n",
    "models = [\n",
    "    # LinearRegression(),\n",
    "    Lasso(alpha=0.5011872336272735),\n",
    "    Ridge(alpha=0.006579332246575682),\n",
    "    KNeighborsRegressor(p = 2, n_neighbors=4),\n",
    "    DecisionTreeRegressor(max_depth=4),\n",
    "    RandomForestRegressor(n_estimators= 200),\n",
    "    AdaBoostRegressor(),\n",
    "    GradientBoostingRegressor(),\n",
    "    HistGradientBoostingRegressor(),\n",
    "    MLPRegressor(max_iter=35000)\n",
    "]"
   ],
   "metadata": {
    "collapsed": false,
    "pycharm": {
     "name": "#%%\n"
    }
   }
  },
  {
   "cell_type": "code",
   "execution_count": 10,
   "outputs": [
    {
     "name": "stdout",
     "output_type": "stream",
     "text": [
      "Lasso\n",
      "Ridge\n",
      "KNeighborsRegressor\n",
      "DecisionTreeRegressor\n",
      "RandomForestRegressor\n",
      "AdaBoostRegressor\n",
      "GradientBoostingRegressor\n",
      "HistGradientBoostingRegressor\n",
      "MLPRegressor\n",
      "done\n"
     ]
    }
   ],
   "source": [
    "from sklearn.model_selection import cross_val_score\n",
    "kfold = 5\n",
    "model_names = []\n",
    "model_scores = []\n",
    "\n",
    "for model in models:\n",
    "    model_name = model.__class__.__name__\n",
    "    print(model_name)\n",
    "    model.fit(X_sc, y)\n",
    "\n",
    "    scores = cross_val_score(model, X_sc, y, cv=kfold)\n",
    "    for i in range(len(scores)):\n",
    "        model_scores.append(scores[i])\n",
    "        model_names.append(model_name)\n",
    "print('done')"
   ],
   "metadata": {
    "collapsed": false,
    "pycharm": {
     "name": "#%%\n"
    }
   }
  },
  {
   "cell_type": "code",
   "execution_count": 11,
   "outputs": [
    {
     "name": "stdout",
     "output_type": "stream",
     "text": [
      "\n",
      "mean\n",
      "                                 scores\n",
      "names                                  \n",
      "AdaBoostRegressor              0.636588\n",
      "DecisionTreeRegressor          0.675981\n",
      "GradientBoostingRegressor      0.802413\n",
      "HistGradientBoostingRegressor  0.832997\n",
      "KNeighborsRegressor            0.731610\n",
      "Lasso                          0.788286\n",
      "MLPRegressor                  -1.310792\n",
      "RandomForestRegressor          0.818471\n",
      "Ridge                          0.788144\n",
      "\n",
      "std\n",
      "                                 scores\n",
      "names                                  \n",
      "AdaBoostRegressor              0.181906\n",
      "DecisionTreeRegressor          0.157477\n",
      "GradientBoostingRegressor      0.096203\n",
      "HistGradientBoostingRegressor  0.107378\n",
      "KNeighborsRegressor            0.124380\n",
      "Lasso                          0.107188\n",
      "MLPRegressor                   4.665447\n",
      "RandomForestRegressor          0.122365\n",
      "Ridge                          0.107415\n"
     ]
    },
    {
     "data": {
      "text/plain": "<Figure size 432x288 with 1 Axes>",
      "image/png": "[encoded data removed]"
     },
     "metadata": {},
     "output_type": "display_data"
    }
   ],
   "source": [
    "res_df = pd.DataFrame({\n",
    "    'names' : model_names,\n",
    "    'scores' : model_scores\n",
    "})\n",
    "print('\\nmean')\n",
    "print(res_df.groupby(['names']).mean())\n",
    "print('\\nstd')\n",
    "print(res_df.groupby(['names']).std())\n",
    "\n",
    "sns.boxplot(x=model_scores, y=model_names)\n",
    "plt.show()"
   ],
   "metadata": {
    "collapsed": false,
    "pycharm": {
     "name": "#%%\n"
    }
   }
  },
  {
   "cell_type": "code",
   "execution_count": null,
   "outputs": [],
   "source": [],
   "metadata": {
    "collapsed": false,
    "pycharm": {
     "name": "#%%\n"
    }
   }
  }
 ],
 "metadata": {
  "kernelspec": {
   "display_name": "Python 3",
   "language": "python",
   "name": "python3"
  },
  "language_info": {
   "codemirror_mode": {
    "name": "ipython",
    "version": 2
   },
   "file_extension": ".py",
   "mimetype": "text/x-python",
   "name": "python",
   "nbconvert_exporter": "python",
   "pygments_lexer": "ipython2",
   "version": "2.7.6"
  }
 },
 "nbformat": 4,
 "nbformat_minor": 0
}